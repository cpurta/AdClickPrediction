{
 "cells": [
  {
   "cell_type": "code",
   "execution_count": 1,
   "metadata": {
    "collapsed": true
   },
   "outputs": [],
   "source": [
    "import csv\n",
    "from datetime import datetime"
   ]
  },
  {
   "cell_type": "code",
   "execution_count": 2,
   "metadata": {
    "collapsed": false
   },
   "outputs": [
    {
     "name": "stdout",
     "output_type": "stream",
     "text": [
      "2016-12-09 13:02:07.759628\tHashed 0 records\n",
      "2016-12-09 13:02:28.230742\tHashed 1000000 records\n",
      "2016-12-09 13:02:50.603453\tHashed 2000000 records\n",
      "2016-12-09 13:03:13.372536\tHashed 3000000 records\n",
      "2016-12-09 13:03:35.106852\tHashed 4000000 records\n",
      "2016-12-09 13:03:56.942345\tHashed 5000000 records\n",
      "2016-12-09 13:04:19.748261\tHashed 6000000 records\n",
      "2016-12-09 13:04:42.593798\tHashed 7000000 records\n",
      "2016-12-09 13:05:05.003453\tHashed 8000000 records\n",
      "2016-12-09 13:05:27.109503\tHashed 9000000 records\n",
      "2016-12-09 13:05:48.953628\tHashed 10000000 records\n",
      "2016-12-09 13:06:10.953071\tHashed 11000000 records\n",
      "2016-12-09 13:06:33.689558\tHashed 12000000 records\n",
      "2016-12-09 13:06:56.489167\tHashed 13000000 records\n",
      "2016-12-09 13:07:19.243985\tHashed 14000000 records\n",
      "2016-12-09 13:07:41.611241\tHashed 15000000 records\n",
      "2016-12-09 13:08:03.713028\tHashed 16000000 records\n",
      "2016-12-09 13:08:26.672988\tHashed 17000000 records\n",
      "2016-12-09 13:08:49.490916\tHashed 18000000 records\n",
      "2016-12-09 13:09:12.319295\tHashed 19000000 records\n",
      "2016-12-09 13:09:34.826940\tHashed 20000000 records\n",
      "2016-12-09 13:09:56.523795\tHashed 21000000 records\n",
      "2016-12-09 13:10:18.024253\tHashed 22000000 records\n",
      "2016-12-09 13:10:40.572982\tHashed 23000000 records\n",
      "2016-12-09 13:11:02.996748\tHashed 24000000 records\n",
      "2016-12-09 13:11:26.119727\tHashed 25000000 records\n",
      "2016-12-09 13:11:48.614391\tHashed 26000000 records\n",
      "2016-12-09 13:12:10.575273\tHashed 27000000 records\n",
      "2016-12-09 13:12:32.703068\tHashed 28000000 records\n",
      "2016-12-09 13:12:56.704170\tHashed 29000000 records\n",
      "2016-12-09 13:13:19.643664\tHashed 30000000 records\n",
      "2016-12-09 13:13:40.399939\tHashed 31000000 records\n",
      "2016-12-09 13:14:01.174307\tHashed 32000000 records\n",
      "2016-12-09 13:14:22.966015\tHashed 33000000 records\n",
      "2016-12-09 13:14:44.861499\tHashed 34000000 records\n",
      "2016-12-09 13:15:06.564569\tHashed 35000000 records\n",
      "2016-12-09 13:15:29.127761\tHashed 36000000 records\n",
      "2016-12-09 13:15:51.569008\tHashed 37000000 records\n",
      "2016-12-09 13:16:12.226919\tHashed 38000000 records\n",
      "2016-12-09 13:16:33.972448\tHashed 39000000 records\n",
      "2016-12-09 13:16:55.821978\tHashed 40000000 records\n",
      "2016-12-09 13:17:16.732220\tHashed 41000000 records\n",
      "2016-12-09 13:17:37.806675\tHashed 42000000 records\n",
      "2016-12-09 13:17:58.731246\tHashed 43000000 records\n",
      "2016-12-09 13:18:20.160549\tHashed 44000000 records\n",
      "2016-12-09 13:18:41.300704\tHashed 45000000 records\n",
      "2016-12-09 13:19:02.756236\tHashed 46000000 records\n",
      "2016-12-09 13:19:25.810628\tHashed 47000000 records\n",
      "2016-12-09 13:19:47.660765\tHashed 48000000 records\n",
      "2016-12-09 13:20:09.281351\tHashed 49000000 records\n",
      "2016-12-09 13:20:30.837830\tHashed 50000000 records\n",
      "2016-12-09 13:20:52.575691\tHashed 51000000 records\n",
      "2016-12-09 13:21:14.390994\tHashed 52000000 records\n",
      "2016-12-09 13:21:35.950096\tHashed 53000000 records\n",
      "2016-12-09 13:21:59.606590\tHashed 54000000 records\n",
      "2016-12-09 13:22:22.497509\tHashed 55000000 records\n",
      "2016-12-09 13:22:44.717022\tHashed 56000000 records\n",
      "2016-12-09 13:23:05.767168\tHashed 57000000 records\n",
      "2016-12-09 13:23:26.879508\tHashed 58000000 records\n",
      "2016-12-09 13:23:48.531412\tHashed 59000000 records\n",
      "2016-12-09 13:24:10.200332\tHashed 60000000 records\n",
      "2016-12-09 13:24:31.209641\tHashed 61000000 records\n",
      "2016-12-09 13:24:51.986590\tHashed 62000000 records\n",
      "2016-12-09 13:25:12.743465\tHashed 63000000 records\n",
      "2016-12-09 13:25:33.923021\tHashed 64000000 records\n",
      "2016-12-09 13:25:54.649967\tHashed 65000000 records\n",
      "2016-12-09 13:26:15.433076\tHashed 66000000 records\n",
      "2016-12-09 13:26:36.095195\tHashed 67000000 records\n",
      "2016-12-09 13:26:56.819766\tHashed 68000000 records\n",
      "2016-12-09 13:27:17.587149\tHashed 69000000 records\n",
      "2016-12-09 13:27:39.014161\tHashed 70000000 records\n",
      "2016-12-09 13:27:59.870571\tHashed 71000000 records\n",
      "2016-12-09 13:28:20.770808\tHashed 72000000 records\n",
      "2016-12-09 13:28:41.393818\tHashed 73000000 records\n",
      "2016-12-09 13:29:02.217170\tHashed 74000000 records\n",
      "2016-12-09 13:29:22.859868\tHashed 75000000 records\n",
      "2016-12-09 13:29:43.713239\tHashed 76000000 records\n",
      "2016-12-09 13:30:04.391748\tHashed 77000000 records\n",
      "2016-12-09 13:30:25.179095\tHashed 78000000 records\n",
      "2016-12-09 13:30:45.782795\tHashed 79000000 records\n",
      "2016-12-09 13:31:06.408137\tHashed 80000000 records\n",
      "2016-12-09 13:31:26.934421\tHashed 81000000 records\n",
      "2016-12-09 13:31:47.576587\tHashed 82000000 records\n",
      "2016-12-09 13:32:08.295847\tHashed 83000000 records\n",
      "2016-12-09 13:32:28.948572\tHashed 84000000 records\n",
      "2016-12-09 13:32:49.699773\tHashed 85000000 records\n",
      "2016-12-09 13:33:10.482192\tHashed 86000000 records\n",
      "2016-12-09 13:33:31.234589\tHashed 87000000 records\n"
     ]
    }
   ],
   "source": [
    "train = './input/clicks_meta_train.csv'\n",
    "output = './output/ffm.tr.txt'\n",
    "\n",
    "D = 2 ** 10\n",
    "checkpoint = 1000000\n",
    "\n",
    "hash_feat = lambda x, y: '%d:%d' % (abs(hash(x)) % D, abs(hash(y)) % D)\n",
    "\n",
    "features = []\n",
    "\n",
    "with open(train, 'r') as input_file:\n",
    "    reader = csv.DictReader(input_file)\n",
    "    x = 0\n",
    "    for row in reader:\n",
    "        label = row['clicked']\n",
    "        \n",
    "        del row['clicked']\n",
    "        \n",
    "        i = 1\n",
    "        feats = []\n",
    "        for key, val in row.iteritems():\n",
    "            feats.append(str(i) + ':' + hash_feat(key, val))\n",
    "            i += 1\n",
    "            \n",
    "        features.append(label + ' ' + ' '.join(feats))\n",
    "        if x % checkpoint == 0:\n",
    "            print('%s\\tHashed %d records' % (datetime.now(),x))\n",
    "        x += 1"
   ]
  },
  {
   "cell_type": "code",
   "execution_count": 3,
   "metadata": {
    "collapsed": false
   },
   "outputs": [
    {
     "name": "stdout",
     "output_type": "stream",
     "text": [
      "['0 1:832:432 2:573:112 3:371:335 4:432:89 5:1016:381 6:316:826 7:708:0 8:418:691', '0 1:832:432 2:573:421 3:371:345 4:432:298 5:1016:638 6:316:609 7:708:0 8:418:998', '1 1:832:432 2:573:122 3:371:440 4:432:650 5:1016:274 6:316:398 7:708:0 8:418:770', '0 1:832:432 2:573:288 3:371:896 4:432:848 5:1016:762 6:316:56 7:708:0 8:418:296', '0 1:832:432 2:573:347 3:371:609 4:432:109 5:1016:58 6:316:492 7:708:0 8:418:635', '0 1:832:432 2:573:0 3:371:327 4:432:0 5:1016:139 6:316:967 7:708:0 8:418:58', '0 1:832:819 2:573:0 3:371:905 4:432:57 5:1016:132 6:316:660 7:708:886 8:418:372', '0 1:832:819 2:573:380 3:371:859 4:432:816 5:1016:93 6:316:59 7:708:727 8:418:793', '0 1:832:819 2:573:472 3:371:727 4:432:783 5:1016:8 6:316:757 7:708:0 8:418:388', '1 1:832:819 2:573:93 3:371:304 4:432:610 5:1016:80 6:316:779 7:708:521 8:418:848']\n"
     ]
    }
   ],
   "source": [
    "print(features[:10])"
   ]
  },
  {
   "cell_type": "code",
   "execution_count": 4,
   "metadata": {
    "collapsed": true
   },
   "outputs": [],
   "source": [
    "with open(output, 'w') as outfile:\n",
    "    for row in features:\n",
    "        outfile.write(row + '\\n')"
   ]
  },
  {
   "cell_type": "code",
   "execution_count": null,
   "metadata": {
    "collapsed": true
   },
   "outputs": [],
   "source": []
  }
 ],
 "metadata": {
  "kernelspec": {
   "display_name": "Python 2",
   "language": "python",
   "name": "python2"
  },
  "language_info": {
   "codemirror_mode": {
    "name": "ipython",
    "version": 2
   },
   "file_extension": ".py",
   "mimetype": "text/x-python",
   "name": "python",
   "nbconvert_exporter": "python",
   "pygments_lexer": "ipython2",
   "version": "2.7.11"
  }
 },
 "nbformat": 4,
 "nbformat_minor": 1
}
