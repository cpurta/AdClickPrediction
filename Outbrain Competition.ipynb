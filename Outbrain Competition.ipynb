{
 "cells": [
  {
   "cell_type": "code",
   "execution_count": 1,
   "metadata": {
    "collapsed": true
   },
   "outputs": [],
   "source": [
    "# lets import everything that we are going to need. \n",
    "import pandas as pd\n",
    "import os\n",
    "import gc # garbage collection\n",
    "import numpy as np"
   ]
  },
  {
   "cell_type": "code",
   "execution_count": 2,
   "metadata": {
    "collapsed": false
   },
   "outputs": [
    {
     "name": "stdout",
     "output_type": "stream",
     "text": [
      "# File sizes:\n",
      "clicks_test.csv               506.0MB\n",
      "clicks_train.csv              1486.0MB\n",
      "documents_meta.csv            89.0MB\n",
      "promoted_content.csv          13.0MB\n",
      "sample_submission.csv         273.0MB\n"
     ]
    }
   ],
   "source": [
    "print('# File sizes:')\n",
    "for f in os.listdir('./input'):\n",
    "     if 'zip' not in f:\n",
    "        print(f.ljust(30) + str(round(os.path.getsize('./input/' + f) / 1000000, 2)) + 'MB')"
   ]
  },
  {
   "cell_type": "code",
   "execution_count": 19,
   "metadata": {
    "collapsed": false
   },
   "outputs": [
    {
     "name": "stdout",
     "output_type": "stream",
     "text": [
      "done reading data input files\n"
     ]
    }
   ],
   "source": [
    "df_train = pd.read_csv('./input/clicks_train.csv', usecols=['ad_id', 'clicked'])\n",
    "df_test = pd.read_csv('./input/clicks_test.csv')\n",
    "print('done reading data input files')"
   ]
  },
  {
   "cell_type": "code",
   "execution_count": 4,
   "metadata": {
    "collapsed": false
   },
   "outputs": [
    {
     "name": "stdout",
     "output_type": "stream",
     "text": [
      "    ad_id  count  sum      mean  likelihood\n",
      "0       1      2    0  0.000000    0.179301\n",
      "1       2     22    1  0.045455    0.124279\n",
      "2       3    161   11  0.068323    0.085167\n",
      "3       4     32    4  0.125000    0.155108\n",
      "4       5      1    0  0.000000    0.186197\n",
      "5       6      1    0  0.000000    0.186197\n",
      "6       7   3406  985  0.289196    0.288499\n",
      "7       8     28    4  0.142857    0.166814\n",
      "8       9      3    0  0.000000    0.172898\n",
      "9      10     81    9  0.111111    0.130577\n",
      "10     11     11    0  0.000000    0.134476\n",
      "11     12     12    2  0.166667    0.184896\n",
      "12     13      8    1  0.125000    0.177004\n",
      "13     14     10    1  0.100000    0.166890\n",
      "14     15      2    0  0.000000    0.179301\n",
      "15     16      3    1  0.333333    0.208612\n",
      "16     17     20    2  0.100000    0.152025\n",
      "17     18      9    0  0.000000    0.142386\n",
      "18     20     14    0  0.000000    0.124132\n",
      "19     21     32    0  0.000000    0.084932\n",
      "20     22      4    0  0.000000    0.166936\n",
      "21     23     11    2  0.181818    0.190032\n",
      "22     24     13    0  0.000000    0.127398\n",
      "23     25      1    0  0.000000    0.186197\n",
      "24     26     22    1  0.045455    0.124279\n",
      "25     27      4    0  0.000000    0.166936\n",
      "26     28     12    0  0.000000    0.130841\n",
      "27     29      5    0  0.000000    0.161371\n",
      "28     30      3    0  0.000000    0.172898\n",
      "29     31     18    3  0.166667    0.182352\n",
      "..    ...    ...  ...       ...         ...\n",
      "70     87      3    0  0.000000    0.172898\n",
      "71     88      1    0  0.000000    0.186197\n",
      "72     89    170   19  0.111765    0.122262\n",
      "73     90      1    0  0.000000    0.186197\n",
      "74     91      1    0  0.000000    0.186197\n",
      "75     92      1    0  0.000000    0.186197\n",
      "76     93    184   22  0.119565    0.128426\n",
      "77     95      4    0  0.000000    0.166936\n",
      "78     96     19    1  0.052632    0.132753\n",
      "79     97     29    2  0.068966    0.126688\n",
      "80     98     11    0  0.000000    0.134476\n",
      "81     99      1    0  0.000000    0.186197\n",
      "82    102      2    0  0.000000    0.179301\n",
      "83    103     19    0  0.000000    0.110026\n",
      "84    104     14    1  0.071429    0.149773\n",
      "85    105     16    1  0.062500    0.142467\n",
      "86    106      1    0  0.000000    0.186197\n",
      "87    107     14    0  0.000000    0.124132\n",
      "88    108      2    0  0.000000    0.179301\n",
      "89    109      1    1  1.000000    0.224659\n",
      "90    110     14    3  0.214286    0.201055\n",
      "91    111      1    0  0.000000    0.186197\n",
      "92    112      1    0  0.000000    0.186197\n",
      "93    113     13    1  0.076923    0.153714\n",
      "94    114     31    0  0.000000    0.086449\n",
      "95    115      9    0  0.000000    0.142386\n",
      "96    116      7    2  0.285714    0.213785\n",
      "97    117     23    0  0.000000    0.100857\n",
      "98    118     23    0  0.000000    0.100857\n",
      "99    119     29    0  0.000000    0.089651\n",
      "\n",
      "[100 rows x 5 columns]\n"
     ]
    }
   ],
   "source": [
    "ad_likelihood = df_train.groupby('ad_id')['clicked'].agg(['count','sum','mean']).reset_index()\n",
    "mean_clicked = df_train.clicked.mean()\n",
    "ad_likelihood['likelihood'] = (ad_likelihood['sum'] + 25 * mean_clicked) / (ad_likelihood['count'] + 25)\n",
    "\n",
    "print(ad_likelihood[:100])"
   ]
  },
  {
   "cell_type": "code",
   "execution_count": 5,
   "metadata": {
    "collapsed": false
   },
   "outputs": [
    {
     "name": "stdout",
     "output_type": "stream",
     "text": [
      "          display_id   ad_id          count           sum      mean  \\\n",
      "32225159    23120126  145293   25321.000000   4516.000000  0.178350   \n",
      "32225160    23120126  201649   51067.000000   4074.000000  0.079778   \n",
      "32225161    23120126  292363    7602.000000    589.000000  0.077480   \n",
      "32225158    23120126   57097   34294.000000   1261.000000  0.036770   \n",
      "32225155    23120125   89725   19390.000000   3991.000000  0.205828   \n",
      "32225154    23120125   86281   11425.000000   1852.000000  0.162101   \n",
      "32225157    23120125  254698     208.000000     21.000000  0.100962   \n",
      "32225156    23120125  187797  108989.000000   9346.000000  0.085752   \n",
      "32225150    23120124   83252   18266.000000   5760.000000  0.315340   \n",
      "32225151    23120124  162994   11430.000000   2585.000000  0.226159   \n",
      "32225153    23120124  489589     642.000000     99.000000  0.154206   \n",
      "32225152    23120124  173403  128030.000000  16931.000000  0.132242   \n",
      "32225147    23120123  208244   27184.000000   7630.000000  0.280680   \n",
      "32225149    23120123  516264       0.193645      0.193645  0.193645   \n",
      "32225148    23120123  471443    2585.000000    281.000000  0.108704   \n",
      "32225146    23120123  174045    4707.000000    468.000000  0.099426   \n",
      "32225141    23120122  148268    7826.000000   3437.000000  0.439177   \n",
      "32225144    23120122  386922    5914.000000   1534.000000  0.259385   \n",
      "32225138    23120122    5579       0.193645      0.193645  0.193645   \n",
      "32225145    23120122  561507       0.193645      0.193645  0.193645   \n",
      "32225142    23120122  166840    4071.000000    628.000000  0.154262   \n",
      "32225139    23120122   54979   54076.000000   2160.000000  0.039944   \n",
      "32225140    23120122   95103  111281.000000   4242.000000  0.038120   \n",
      "32225143    23120122  281183   16029.000000    439.000000  0.027388   \n",
      "32225135    23120121  163139   29730.000000  15356.000000  0.516515   \n",
      "32225136    23120121  303990   82037.000000  41380.000000  0.504407   \n",
      "32225134    23120121   96074   11630.000000   2100.000000  0.180567   \n",
      "32225137    23120121  495641   14780.000000   2459.000000  0.166373   \n",
      "32225130    23120120  149756   19095.000000   4113.000000  0.215397   \n",
      "32225128    23120120   54045   31317.000000   6201.000000  0.198007   \n",
      "...              ...     ...            ...           ...       ...   \n",
      "32225092    23120113  478302   14695.000000   5441.000000  0.370262   \n",
      "32225088    23120112   74291      37.000000     13.000000  0.351351   \n",
      "32225087    23120112   10791       0.193645      0.193645  0.193645   \n",
      "32225090    23120112  561507       0.193645      0.193645  0.193645   \n",
      "32225089    23120112  141416   36578.000000   2437.000000  0.066625   \n",
      "32225083    23120111  477697      43.000000     13.000000  0.302326   \n",
      "32225079    23120111  195479       1.000000      1.000000  1.000000   \n",
      "32225081    23120111  332720      20.000000      5.000000  0.250000   \n",
      "32225084    23120111  521205       0.193645      0.193645  0.193645   \n",
      "32225086    23120111  551622       0.193645      0.193645  0.193645   \n",
      "32225080    23120111  268909      42.000000      7.000000  0.166667   \n",
      "32225085    23120111  526794     704.000000     87.000000  0.123580   \n",
      "32225082    23120111  464891    1971.000000     52.000000  0.026383   \n",
      "32225077    23120110  540194       4.000000      1.000000  0.250000   \n",
      "32225078    23120110  561504       0.193645      0.193645  0.193645   \n",
      "32225076    23120110  474672      14.000000      2.000000  0.142857   \n",
      "32225073    23120110   94551      55.000000      5.000000  0.090909   \n",
      "32225074    23120110  180923  203159.000000   8477.000000  0.041726   \n",
      "32225075    23120110  383489    1025.000000     26.000000  0.025366   \n",
      "32225069    23120109   66483    3842.000000   1270.000000  0.330557   \n",
      "32225070    23120109   84140    7953.000000   2367.000000  0.297624   \n",
      "32225072    23120109  545819       0.193645      0.193645  0.193645   \n",
      "32225071    23120109  152141   20088.000000   3282.000000  0.163381   \n",
      "32225063    23120108   11430   19215.000000   7359.000000  0.382982   \n",
      "32225066    23120108  488836       0.193645      0.193645  0.193645   \n",
      "32225064    23120108  116086    1670.000000    176.000000  0.105389   \n",
      "32225067    23120108  509920     608.000000     58.000000  0.095395   \n",
      "32225065    23120108  221782   15097.000000    729.000000  0.048288   \n",
      "32225068    23120108  535955    1061.000000     23.000000  0.021678   \n",
      "32225057    23120107   92353   22004.000000  10433.000000  0.474141   \n",
      "\n",
      "          likelihood  \n",
      "32225159    0.178365  \n",
      "32225160    0.079833  \n",
      "32225161    0.077860  \n",
      "32225158    0.036885  \n",
      "32225155    0.205812  \n",
      "32225154    0.162170  \n",
      "32225157    0.110906  \n",
      "32225156    0.085777  \n",
      "32225150    0.315174  \n",
      "32225151    0.226088  \n",
      "32225153    0.155684  \n",
      "32225152    0.132254  \n",
      "32225147    0.280600  \n",
      "32225149    0.193645  \n",
      "32225148    0.109518  \n",
      "32225146    0.099924  \n",
      "32225141    0.438395  \n",
      "32225144    0.259108  \n",
      "32225138    0.193645  \n",
      "32225145    0.193645  \n",
      "32225142    0.154502  \n",
      "32225139    0.040015  \n",
      "32225140    0.038155  \n",
      "32225143    0.027647  \n",
      "32225135    0.516244  \n",
      "32225136    0.504312  \n",
      "32225134    0.180596  \n",
      "32225137    0.166420  \n",
      "32225130    0.215368  \n",
      "32225128    0.198004  \n",
      "...              ...  \n",
      "32225092    0.369962  \n",
      "32225088    0.287760  \n",
      "32225087    0.193645  \n",
      "32225090    0.193645  \n",
      "32225089    0.066712  \n",
      "32225083    0.262370  \n",
      "32225079    0.224659  \n",
      "32225081    0.218692  \n",
      "32225084    0.193645  \n",
      "32225086    0.193645  \n",
      "32225080    0.176733  \n",
      "32225085    0.125982  \n",
      "32225082    0.028478  \n",
      "32225077    0.201418  \n",
      "32225078    0.193645  \n",
      "32225076    0.175414  \n",
      "32225073    0.123014  \n",
      "32225074    0.041745  \n",
      "32225075    0.029373  \n",
      "32225069    0.329672  \n",
      "32225070    0.297298  \n",
      "32225072    0.193645  \n",
      "32225071    0.163419  \n",
      "32225063    0.382736  \n",
      "32225066    0.193645  \n",
      "32225064    0.106691  \n",
      "32225067    0.099275  \n",
      "32225065    0.048528  \n",
      "32225068    0.025636  \n",
      "32225057    0.473823  \n",
      "\n",
      "[100 rows x 6 columns]\n"
     ]
    }
   ],
   "source": [
    "df_test = df_test.merge(ad_likelihood, how='left')\n",
    "df_test.fillna(mean_clicked,inplace=True)\n",
    "df_test.sort_values(['display_id','likelihood'],inplace=True,ascending=False)\n",
    "\n",
    "print(df_test[:100])"
   ]
  },
  {
   "cell_type": "code",
   "execution_count": 6,
   "metadata": {
    "collapsed": false
   },
   "outputs": [
    {
     "ename": "KeyboardInterrupt",
     "evalue": "",
     "output_type": "error",
     "traceback": [
      "\u001b[0;31m---------------------------------------------------------------------------\u001b[0m",
      "\u001b[0;31mKeyboardInterrupt\u001b[0m                         Traceback (most recent call last)",
      "\u001b[0;32m<ipython-input-6-4c85e65c8c25>\u001b[0m in \u001b[0;36m<module>\u001b[0;34m()\u001b[0m\n\u001b[0;32m----> 1\u001b[0;31m \u001b[0moutput\u001b[0m \u001b[0;34m=\u001b[0m \u001b[0mdf_test\u001b[0m\u001b[0;34m.\u001b[0m\u001b[0mgroupby\u001b[0m\u001b[0;34m(\u001b[0m\u001b[0;34m[\u001b[0m\u001b[0;34m'display_id'\u001b[0m\u001b[0;34m]\u001b[0m\u001b[0;34m)\u001b[0m\u001b[0;34m[\u001b[0m\u001b[0;34m'ad_id'\u001b[0m\u001b[0;34m]\u001b[0m\u001b[0;34m.\u001b[0m\u001b[0mapply\u001b[0m\u001b[0;34m(\u001b[0m\u001b[0;32mlambda\u001b[0m \u001b[0mx\u001b[0m\u001b[0;34m:\u001b[0m\u001b[0;34m' '\u001b[0m\u001b[0;34m.\u001b[0m\u001b[0mjoin\u001b[0m\u001b[0;34m(\u001b[0m\u001b[0mmap\u001b[0m\u001b[0;34m(\u001b[0m\u001b[0mstr\u001b[0m\u001b[0;34m,\u001b[0m\u001b[0mx\u001b[0m\u001b[0;34m)\u001b[0m\u001b[0;34m)\u001b[0m\u001b[0;34m)\u001b[0m\u001b[0;34m.\u001b[0m\u001b[0mreset_index\u001b[0m\u001b[0;34m(\u001b[0m\u001b[0;34m)\u001b[0m\u001b[0;34m\u001b[0m\u001b[0m\n\u001b[0m\u001b[1;32m      2\u001b[0m \u001b[0;34m\u001b[0m\u001b[0m\n\u001b[1;32m      3\u001b[0m \u001b[0;32mprint\u001b[0m\u001b[0;34m(\u001b[0m\u001b[0moutput\u001b[0m\u001b[0;34m[\u001b[0m\u001b[0;34m:\u001b[0m\u001b[0;36m100\u001b[0m\u001b[0;34m]\u001b[0m\u001b[0;34m)\u001b[0m\u001b[0;34m\u001b[0m\u001b[0m\n\u001b[1;32m      4\u001b[0m \u001b[0;34m\u001b[0m\u001b[0m\n\u001b[1;32m      5\u001b[0m \u001b[0moutput\u001b[0m\u001b[0;34m.\u001b[0m\u001b[0mto_csv\u001b[0m\u001b[0;34m(\u001b[0m\u001b[0;34m'./output/output.csv'\u001b[0m\u001b[0;34m,\u001b[0m\u001b[0mindex\u001b[0m\u001b[0;34m=\u001b[0m\u001b[0mFalse\u001b[0m\u001b[0;34m)\u001b[0m\u001b[0;34m\u001b[0m\u001b[0m\n",
      "\u001b[0;32m/usr/local/lib/python2.7/site-packages/pandas/core/groupby.pyc\u001b[0m in \u001b[0;36mapply\u001b[0;34m(self, func, *args, **kwargs)\u001b[0m\n\u001b[1;32m    649\u001b[0m         \u001b[0;31m# ignore SettingWithCopy here in case the user mutates\u001b[0m\u001b[0;34m\u001b[0m\u001b[0;34m\u001b[0m\u001b[0m\n\u001b[1;32m    650\u001b[0m         \u001b[0;32mwith\u001b[0m \u001b[0moption_context\u001b[0m\u001b[0;34m(\u001b[0m\u001b[0;34m'mode.chained_assignment'\u001b[0m\u001b[0;34m,\u001b[0m \u001b[0mNone\u001b[0m\u001b[0;34m)\u001b[0m\u001b[0;34m:\u001b[0m\u001b[0;34m\u001b[0m\u001b[0m\n\u001b[0;32m--> 651\u001b[0;31m             \u001b[0;32mreturn\u001b[0m \u001b[0mself\u001b[0m\u001b[0;34m.\u001b[0m\u001b[0m_python_apply_general\u001b[0m\u001b[0;34m(\u001b[0m\u001b[0mf\u001b[0m\u001b[0;34m)\u001b[0m\u001b[0;34m\u001b[0m\u001b[0m\n\u001b[0m\u001b[1;32m    652\u001b[0m \u001b[0;34m\u001b[0m\u001b[0m\n\u001b[1;32m    653\u001b[0m     \u001b[0;32mdef\u001b[0m \u001b[0m_python_apply_general\u001b[0m\u001b[0;34m(\u001b[0m\u001b[0mself\u001b[0m\u001b[0;34m,\u001b[0m \u001b[0mf\u001b[0m\u001b[0;34m)\u001b[0m\u001b[0;34m:\u001b[0m\u001b[0;34m\u001b[0m\u001b[0m\n",
      "\u001b[0;32m/usr/local/lib/python2.7/site-packages/pandas/core/groupby.pyc\u001b[0m in \u001b[0;36m_python_apply_general\u001b[0;34m(self, f)\u001b[0m\n\u001b[1;32m    653\u001b[0m     \u001b[0;32mdef\u001b[0m \u001b[0m_python_apply_general\u001b[0m\u001b[0;34m(\u001b[0m\u001b[0mself\u001b[0m\u001b[0;34m,\u001b[0m \u001b[0mf\u001b[0m\u001b[0;34m)\u001b[0m\u001b[0;34m:\u001b[0m\u001b[0;34m\u001b[0m\u001b[0m\n\u001b[1;32m    654\u001b[0m         keys, values, mutated = self.grouper.apply(f, self._selected_obj,\n\u001b[0;32m--> 655\u001b[0;31m                                                    self.axis)\n\u001b[0m\u001b[1;32m    656\u001b[0m \u001b[0;34m\u001b[0m\u001b[0m\n\u001b[1;32m    657\u001b[0m         return self._wrap_applied_output(\n",
      "\u001b[0;32m/usr/local/lib/python2.7/site-packages/pandas/core/groupby.pyc\u001b[0m in \u001b[0;36mapply\u001b[0;34m(self, f, data, axis)\u001b[0m\n\u001b[1;32m   1525\u001b[0m             \u001b[0;31m# group might be modified\u001b[0m\u001b[0;34m\u001b[0m\u001b[0;34m\u001b[0m\u001b[0m\n\u001b[1;32m   1526\u001b[0m             \u001b[0mgroup_axes\u001b[0m \u001b[0;34m=\u001b[0m \u001b[0m_get_axes\u001b[0m\u001b[0;34m(\u001b[0m\u001b[0mgroup\u001b[0m\u001b[0;34m)\u001b[0m\u001b[0;34m\u001b[0m\u001b[0m\n\u001b[0;32m-> 1527\u001b[0;31m             \u001b[0mres\u001b[0m \u001b[0;34m=\u001b[0m \u001b[0mf\u001b[0m\u001b[0;34m(\u001b[0m\u001b[0mgroup\u001b[0m\u001b[0;34m)\u001b[0m\u001b[0;34m\u001b[0m\u001b[0m\n\u001b[0m\u001b[1;32m   1528\u001b[0m             \u001b[0;32mif\u001b[0m \u001b[0;32mnot\u001b[0m \u001b[0m_is_indexed_like\u001b[0m\u001b[0;34m(\u001b[0m\u001b[0mres\u001b[0m\u001b[0;34m,\u001b[0m \u001b[0mgroup_axes\u001b[0m\u001b[0;34m)\u001b[0m\u001b[0;34m:\u001b[0m\u001b[0;34m\u001b[0m\u001b[0m\n\u001b[1;32m   1529\u001b[0m                 \u001b[0mmutated\u001b[0m \u001b[0;34m=\u001b[0m \u001b[0mTrue\u001b[0m\u001b[0;34m\u001b[0m\u001b[0m\n",
      "\u001b[0;32m/usr/local/lib/python2.7/site-packages/pandas/core/groupby.pyc\u001b[0m in \u001b[0;36mf\u001b[0;34m(g)\u001b[0m\n\u001b[1;32m    645\u001b[0m         \u001b[0;34m@\u001b[0m\u001b[0mwraps\u001b[0m\u001b[0;34m(\u001b[0m\u001b[0mfunc\u001b[0m\u001b[0;34m)\u001b[0m\u001b[0;34m\u001b[0m\u001b[0m\n\u001b[1;32m    646\u001b[0m         \u001b[0;32mdef\u001b[0m \u001b[0mf\u001b[0m\u001b[0;34m(\u001b[0m\u001b[0mg\u001b[0m\u001b[0;34m)\u001b[0m\u001b[0;34m:\u001b[0m\u001b[0;34m\u001b[0m\u001b[0m\n\u001b[0;32m--> 647\u001b[0;31m             \u001b[0;32mreturn\u001b[0m \u001b[0mfunc\u001b[0m\u001b[0;34m(\u001b[0m\u001b[0mg\u001b[0m\u001b[0;34m,\u001b[0m \u001b[0;34m*\u001b[0m\u001b[0margs\u001b[0m\u001b[0;34m,\u001b[0m \u001b[0;34m**\u001b[0m\u001b[0mkwargs\u001b[0m\u001b[0;34m)\u001b[0m\u001b[0;34m\u001b[0m\u001b[0m\n\u001b[0m\u001b[1;32m    648\u001b[0m \u001b[0;34m\u001b[0m\u001b[0m\n\u001b[1;32m    649\u001b[0m         \u001b[0;31m# ignore SettingWithCopy here in case the user mutates\u001b[0m\u001b[0;34m\u001b[0m\u001b[0;34m\u001b[0m\u001b[0m\n",
      "\u001b[0;32m<ipython-input-6-4c85e65c8c25>\u001b[0m in \u001b[0;36m<lambda>\u001b[0;34m(x)\u001b[0m\n\u001b[0;32m----> 1\u001b[0;31m \u001b[0moutput\u001b[0m \u001b[0;34m=\u001b[0m \u001b[0mdf_test\u001b[0m\u001b[0;34m.\u001b[0m\u001b[0mgroupby\u001b[0m\u001b[0;34m(\u001b[0m\u001b[0;34m[\u001b[0m\u001b[0;34m'display_id'\u001b[0m\u001b[0;34m]\u001b[0m\u001b[0;34m)\u001b[0m\u001b[0;34m[\u001b[0m\u001b[0;34m'ad_id'\u001b[0m\u001b[0;34m]\u001b[0m\u001b[0;34m.\u001b[0m\u001b[0mapply\u001b[0m\u001b[0;34m(\u001b[0m\u001b[0;32mlambda\u001b[0m \u001b[0mx\u001b[0m\u001b[0;34m:\u001b[0m\u001b[0;34m' '\u001b[0m\u001b[0;34m.\u001b[0m\u001b[0mjoin\u001b[0m\u001b[0;34m(\u001b[0m\u001b[0mmap\u001b[0m\u001b[0;34m(\u001b[0m\u001b[0mstr\u001b[0m\u001b[0;34m,\u001b[0m\u001b[0mx\u001b[0m\u001b[0;34m)\u001b[0m\u001b[0;34m)\u001b[0m\u001b[0;34m)\u001b[0m\u001b[0;34m.\u001b[0m\u001b[0mreset_index\u001b[0m\u001b[0;34m(\u001b[0m\u001b[0;34m)\u001b[0m\u001b[0;34m\u001b[0m\u001b[0m\n\u001b[0m\u001b[1;32m      2\u001b[0m \u001b[0;34m\u001b[0m\u001b[0m\n\u001b[1;32m      3\u001b[0m \u001b[0;32mprint\u001b[0m\u001b[0;34m(\u001b[0m\u001b[0moutput\u001b[0m\u001b[0;34m[\u001b[0m\u001b[0;34m:\u001b[0m\u001b[0;36m100\u001b[0m\u001b[0;34m]\u001b[0m\u001b[0;34m)\u001b[0m\u001b[0;34m\u001b[0m\u001b[0m\n\u001b[1;32m      4\u001b[0m \u001b[0;34m\u001b[0m\u001b[0m\n\u001b[1;32m      5\u001b[0m \u001b[0moutput\u001b[0m\u001b[0;34m.\u001b[0m\u001b[0mto_csv\u001b[0m\u001b[0;34m(\u001b[0m\u001b[0;34m'./output/output.csv'\u001b[0m\u001b[0;34m,\u001b[0m\u001b[0mindex\u001b[0m\u001b[0;34m=\u001b[0m\u001b[0mFalse\u001b[0m\u001b[0;34m)\u001b[0m\u001b[0;34m\u001b[0m\u001b[0m\n",
      "\u001b[0;32m/usr/local/lib/python2.7/site-packages/numpy-1.11.1-py2.7-macosx-10.11-x86_64.egg/numpy/core/numeric.pyc\u001b[0m in \u001b[0;36marray_str\u001b[0;34m(a, max_line_width, precision, suppress_small)\u001b[0m\n\u001b[1;32m   1867\u001b[0m \u001b[0;34m\u001b[0m\u001b[0m\n\u001b[1;32m   1868\u001b[0m     \"\"\"\n\u001b[0;32m-> 1869\u001b[0;31m     \u001b[0;32mreturn\u001b[0m \u001b[0marray2string\u001b[0m\u001b[0;34m(\u001b[0m\u001b[0ma\u001b[0m\u001b[0;34m,\u001b[0m \u001b[0mmax_line_width\u001b[0m\u001b[0;34m,\u001b[0m \u001b[0mprecision\u001b[0m\u001b[0;34m,\u001b[0m \u001b[0msuppress_small\u001b[0m\u001b[0;34m,\u001b[0m \u001b[0;34m' '\u001b[0m\u001b[0;34m,\u001b[0m \u001b[0;34m\"\"\u001b[0m\u001b[0;34m,\u001b[0m \u001b[0mstr\u001b[0m\u001b[0;34m)\u001b[0m\u001b[0;34m\u001b[0m\u001b[0m\n\u001b[0m\u001b[1;32m   1870\u001b[0m \u001b[0;34m\u001b[0m\u001b[0m\n\u001b[1;32m   1871\u001b[0m \u001b[0;32mdef\u001b[0m \u001b[0mset_string_function\u001b[0m\u001b[0;34m(\u001b[0m\u001b[0mf\u001b[0m\u001b[0;34m,\u001b[0m \u001b[0mrepr\u001b[0m\u001b[0;34m=\u001b[0m\u001b[0mTrue\u001b[0m\u001b[0;34m)\u001b[0m\u001b[0;34m:\u001b[0m\u001b[0;34m\u001b[0m\u001b[0m\n",
      "\u001b[0;32m/usr/local/lib/python2.7/site-packages/numpy-1.11.1-py2.7-macosx-10.11-x86_64.egg/numpy/core/arrayprint.pyc\u001b[0m in \u001b[0;36marray2string\u001b[0;34m(a, max_line_width, precision, suppress_small, separator, prefix, style, formatter)\u001b[0m\n\u001b[1;32m    437\u001b[0m     \u001b[0;32mif\u001b[0m \u001b[0ma\u001b[0m\u001b[0;34m.\u001b[0m\u001b[0mshape\u001b[0m \u001b[0;34m==\u001b[0m \u001b[0;34m(\u001b[0m\u001b[0;34m)\u001b[0m\u001b[0;34m:\u001b[0m\u001b[0;34m\u001b[0m\u001b[0m\n\u001b[1;32m    438\u001b[0m         \u001b[0mx\u001b[0m \u001b[0;34m=\u001b[0m \u001b[0ma\u001b[0m\u001b[0;34m.\u001b[0m\u001b[0mitem\u001b[0m\u001b[0;34m(\u001b[0m\u001b[0;34m)\u001b[0m\u001b[0;34m\u001b[0m\u001b[0m\n\u001b[0;32m--> 439\u001b[0;31m         \u001b[0;32mif\u001b[0m \u001b[0misinstance\u001b[0m\u001b[0;34m(\u001b[0m\u001b[0mx\u001b[0m\u001b[0;34m,\u001b[0m \u001b[0mtuple\u001b[0m\u001b[0;34m)\u001b[0m\u001b[0;34m:\u001b[0m\u001b[0;34m\u001b[0m\u001b[0m\n\u001b[0m\u001b[1;32m    440\u001b[0m             \u001b[0mx\u001b[0m \u001b[0;34m=\u001b[0m \u001b[0m_convert_arrays\u001b[0m\u001b[0;34m(\u001b[0m\u001b[0mx\u001b[0m\u001b[0;34m)\u001b[0m\u001b[0;34m\u001b[0m\u001b[0m\n\u001b[1;32m    441\u001b[0m         \u001b[0mlst\u001b[0m \u001b[0;34m=\u001b[0m \u001b[0mstyle\u001b[0m\u001b[0;34m(\u001b[0m\u001b[0mx\u001b[0m\u001b[0;34m)\u001b[0m\u001b[0;34m\u001b[0m\u001b[0m\n",
      "\u001b[0;31mKeyboardInterrupt\u001b[0m: "
     ]
    }
   ],
   "source": [
    "output = df_test.groupby(['display_id'])['ad_id'].apply(lambda x:' '.join(map(str,x))).reset_index()\n",
    "\n",
    "print(output[:100])\n",
    "\n",
    "output.to_csv('./output/output.csv',index=False)"
   ]
  },
  {
   "cell_type": "code",
   "execution_count": null,
   "metadata": {
    "collapsed": false
   },
   "outputs": [],
   "source": [
    "# lets attempt to use a linear classifier \n",
    "# and see what the results are...\n",
    "from sklearn import linear_model\n",
    "\n",
    "df_doc = pd.read_csv('./input/documents_meta.csv')\n",
    "df_promoted = pd.read_csv('./input/promoted_content.csv')\n",
    "\n",
    "df_vectors = df_train.merge(df_promoted, how='left', on='ad_id').merge(df_doc, how='left', on='document_id')\n",
    "df_vectors.fillna(0.0, inplace=True)\n",
    "\n",
    "del ad_likelihood\n",
    "del df_test\n",
    "del df_doc\n",
    "del df_promoted\n",
    "del df_vectors['clicked']\n",
    "\n",
    "print('len of df_vectors: {}'.format(len(df_vectors)))\n",
    "print(\"Sample of df_vectors:\\n{}\".format(df_vectors[:100]))\n",
    "\n",
    "X = np.array(df_vectors)\n",
    "Y = np.array(df_train['clicked'])\n",
    "print('len of X: {}'.format(len(X)))\n",
    "print('len of Y: {}'.format(len(Y)))\n",
    "\n",
    "clf = linear_model.SGDClassifier()\n",
    "clf.fit(X, Y)\n",
    "print('finished fitting our classifier.')"
   ]
  },
  {
   "cell_type": "code",
   "execution_count": null,
   "metadata": {
    "collapsed": true
   },
   "outputs": [],
   "source": []
  }
 ],
 "metadata": {
  "kernelspec": {
   "display_name": "Python 2",
   "language": "python",
   "name": "python2"
  },
  "language_info": {
   "codemirror_mode": {
    "name": "ipython",
    "version": 2
   },
   "file_extension": ".py",
   "mimetype": "text/x-python",
   "name": "python",
   "nbconvert_exporter": "python",
   "pygments_lexer": "ipython2",
   "version": "2.7.11"
  }
 },
 "nbformat": 4,
 "nbformat_minor": 1
}
